{
 "cells": [
  {
   "cell_type": "markdown",
   "metadata": {
    "id": "CT4gTNQTh9n1"
   },
   "source": [
    "# Load and explore the data"
   ]
  },
  {
   "cell_type": "markdown",
   "metadata": {
    "id": "dwvtDMCYlPus"
   },
   "source": [
    "## Import libraries"
   ]
  },
  {
   "cell_type": "code",
   "execution_count": 2,
   "metadata": {
    "executionInfo": {
     "elapsed": 3570,
     "status": "ok",
     "timestamp": 1760062793312,
     "user": {
      "displayName": "Jack SeattleU",
      "userId": "07242368917600465205"
     },
     "user_tz": 420
    },
    "id": "DQZAzYri_ru5"
   },
   "outputs": [],
   "source": [
    "# Import pandas, numpy, and matplotlib\n",
    "import pandas as pd\n",
    "import numpy as np\n",
    "import matplotlib.pyplot as plt\n",
    "\n",
    "# seaborn is a data visualization library built on matplotlib\n",
    "import seaborn as sns\n",
    "\n",
    "# set the plotting style\n",
    "sns.set_style(\"whitegrid\")"
   ]
  },
  {
   "cell_type": "markdown",
   "metadata": {
    "id": "_WvJtwqP-Mo3"
   },
   "source": [
    "<pre>\n",
    "\n",
    "\n",
    "\n",
    "\n",
    "\n",
    "\n",
    "\n",
    "\n",
    "\n",
    "\n",
    "\n",
    "\n",
    "\n",
    "\n",
    "\n",
    "\n",
    "\n",
    "\n",
    "\n",
    "</pre>"
   ]
  },
  {
   "cell_type": "markdown",
   "metadata": {
    "id": "5qccuG8vy7Ja"
   },
   "source": [
    "## Load the data"
   ]
  },
  {
   "cell_type": "markdown",
   "metadata": {
    "id": "eJEcz0yYiY0r"
   },
   "source": [
    "##### Load the EdGap data set"
   ]
  },
  {
   "cell_type": "code",
   "execution_count": null,
   "metadata": {
    "colab": {
     "base_uri": "https://localhost:8080/"
    },
    "executionInfo": {
     "elapsed": 2344,
     "status": "ok",
     "timestamp": 1760062795676,
     "user": {
      "displayName": "Jack SeattleU",
      "userId": "07242368917600465205"
     },
     "user_tz": 420
    },
    "id": "iClV9MZBiY0r",
    "outputId": "07caf34c-2779-4edc-fd13-abd22216d6bd"
   },
   "outputs": [],
   "source": [
    "edgap = pd.read_excel(\n",
    "    'https://raw.githubusercontent.com/brian-fischer/DATA-5100/main/EdGap_data.xlsx',\n",
    "    dtype={'NCESSCH School ID': object}\n",
    ")"
   ]
  },
  {
   "cell_type": "markdown",
   "metadata": {
    "id": "ePRFxZFC9tGI"
   },
   "source": [
    "<pre>\n",
    "\n",
    "\n",
    "\n",
    "\n",
    "\n",
    "\n",
    "\n",
    "\n",
    "\n",
    "\n",
    "\n",
    "\n",
    "\n",
    "\n",
    "\n",
    "\n",
    "\n",
    "\n",
    "\n",
    "\n",
    "\n",
    "\n",
    "\n",
    "\n",
    "\n",
    "\n",
    "\n",
    "</pre>"
   ]
  },
  {
   "cell_type": "markdown",
   "metadata": {
    "id": "yQ_5N98addPO"
   },
   "source": [
    "##### Download the school information data"
   ]
  },
  {
   "cell_type": "code",
   "execution_count": null,
   "metadata": {
    "colab": {
     "base_uri": "https://localhost:8080/"
    },
    "executionInfo": {
     "elapsed": 1680,
     "status": "ok",
     "timestamp": 1760062797358,
     "user": {
      "displayName": "Jack SeattleU",
      "userId": "07242368917600465205"
     },
     "user_tz": 420
    },
    "id": "4koKUuw4doCI",
    "outputId": "6f9b7726-d1f8-4693-8fd3-25d9ac5529a8"
   },
   "outputs": [],
   "source": [
    "!wget -O ccd_sch_029_1617_w_1a_11212017.csv https://www.dropbox.com/s/lkl5nvcdmwyoban/ccd_sch_029_1617_w_1a_11212017.csv?dl=0"
   ]
  },
  {
   "cell_type": "code",
   "execution_count": null,
   "metadata": {
    "colab": {
     "base_uri": "https://localhost:8080/"
    },
    "executionInfo": {
     "elapsed": 103,
     "status": "ok",
     "timestamp": 1760062797463,
     "user": {
      "displayName": "Jack SeattleU",
      "userId": "07242368917600465205"
     },
     "user_tz": 420
    },
    "id": "rr_-YCalVSpC",
    "outputId": "14fa4d8d-c55b-4fe1-f226-29bbdb9b7fff"
   },
   "outputs": [],
   "source": [
    "!ls"
   ]
  },
  {
   "cell_type": "markdown",
   "metadata": {
    "id": "eLcsT5Iu97Qt"
   },
   "source": [
    "<pre>\n",
    "\n",
    "\n",
    "\n",
    "\n",
    "\n",
    "\n",
    "\n",
    "\n",
    "\n",
    "\n",
    "\n",
    "\n",
    "\n",
    "\n",
    "\n",
    "\n",
    "\n",
    "\n",
    "\n",
    "\n",
    "\n",
    "\n",
    "\n",
    "\n",
    "\n",
    "\n",
    "\n",
    "\n",
    "\n",
    "\n",
    "\n",
    "\n",
    "\n",
    "</pre>"
   ]
  },
  {
   "cell_type": "markdown",
   "metadata": {
    "id": "MlPAuG-4-EEy"
   },
   "source": [
    "##### Load the school information data in pandas"
   ]
  },
  {
   "cell_type": "code",
   "execution_count": null,
   "metadata": {
    "colab": {
     "base_uri": "https://localhost:8080/"
    },
    "executionInfo": {
     "elapsed": 3583,
     "status": "ok",
     "timestamp": 1760062801064,
     "user": {
      "displayName": "Jack SeattleU",
      "userId": "07242368917600465205"
     },
     "user_tz": 420
    },
    "id": "2pMtbuWRQG0-",
    "outputId": "daa9f77c-3b1d-4186-c4d1-7878f4f4933d"
   },
   "outputs": [],
   "source": [
    "school_information = pd.read_csv(\n",
    "    \"ccd_sch_029_1617_w_1a_11212017.csv\", encoding=\"unicode_escape\"\n",
    ")"
   ]
  },
  {
   "cell_type": "markdown",
   "metadata": {
    "id": "pRw9-GMP-JkA"
   },
   "source": [
    "<pre>\n",
    "\n",
    "\n",
    "\n",
    "\n",
    "\n",
    "\n",
    "\n",
    "\n",
    "\n",
    "\n",
    "\n",
    "\n",
    "\n",
    "\n",
    "\n",
    "\n",
    "\n",
    "\n",
    "\n",
    "\n",
    "\n",
    "\n",
    "\n",
    "\n",
    "\n",
    "\n",
    "\n",
    "\n",
    "\n",
    "\n",
    "</pre>"
   ]
  },
  {
   "cell_type": "markdown",
   "metadata": {
    "id": "OHVSgzXFd4nf"
   },
   "source": [
    "## Explore the contents of the data sets"
   ]
  },
  {
   "cell_type": "markdown",
   "metadata": {
    "id": "gYxy4Sy6d9_j"
   },
   "source": [
    "##### Start by looking at the head of each data frame.\n",
    "This will let us see the names of the columns and a few example values for each column. We can also check whether the data is in tidy format."
   ]
  },
  {
   "cell_type": "code",
   "execution_count": null,
   "metadata": {
    "colab": {
     "base_uri": "https://localhost:8080/",
     "height": 223
    },
    "executionInfo": {
     "elapsed": 66,
     "status": "ok",
     "timestamp": 1760062801141,
     "user": {
      "displayName": "Jack SeattleU",
      "userId": "07242368917600465205"
     },
     "user_tz": 420
    },
    "id": "wOhmyXJhd9NF",
    "outputId": "d508988e-8ea0-4551-b564-ee843d3c56c4"
   },
   "outputs": [],
   "source": [
    "edgap.head()"
   ]
  },
  {
   "cell_type": "markdown",
   "metadata": {
    "id": "eajaO2j8-drU"
   },
   "source": [
    "<pre>\n",
    "\n",
    "\n",
    "\n",
    "\n",
    "\n",
    "\n",
    "\n",
    "\n",
    "\n",
    "\n",
    "\n",
    "\n",
    "\n",
    "\n",
    "\n",
    "\n",
    "\n",
    "\n",
    "\n",
    "\n",
    "\n",
    "\n",
    "\n",
    "\n",
    "</pre>"
   ]
  },
  {
   "cell_type": "markdown",
   "metadata": {
    "id": "9H3OHap3Bxb4"
   },
   "source": [
    "##### School information data set"
   ]
  },
  {
   "cell_type": "code",
   "execution_count": null,
   "metadata": {
    "colab": {
     "base_uri": "https://localhost:8080/",
     "height": 481
    },
    "executionInfo": {
     "elapsed": 51,
     "status": "ok",
     "timestamp": 1760062801211,
     "user": {
      "displayName": "Jack SeattleU",
      "userId": "07242368917600465205"
     },
     "user_tz": 420
    },
    "id": "8-HRWZdPeCAI",
    "outputId": "81d49d90-c757-4de9-8847-d52df0fef683"
   },
   "outputs": [],
   "source": [
    "school_information.head()"
   ]
  },
  {
   "cell_type": "code",
   "execution_count": null,
   "metadata": {
    "colab": {
     "base_uri": "https://localhost:8080/",
     "height": 451
    },
    "executionInfo": {
     "elapsed": 131,
     "status": "ok",
     "timestamp": 1760062801344,
     "user": {
      "displayName": "Jack SeattleU",
      "userId": "07242368917600465205"
     },
     "user_tz": 420
    },
    "id": "ffepwdY4knvc",
    "outputId": "807e0fdc-238c-4064-e0cf-45bd4128040f"
   },
   "outputs": [],
   "source": [
    "pd.set_option('display.max_columns', None)\n",
    "\n",
    "school_information.head()"
   ]
  },
  {
   "cell_type": "markdown",
   "metadata": {
    "id": "r-t8fm2k-jfa"
   },
   "source": [
    "<pre>\n",
    "\n",
    "\n",
    "\n",
    "\n",
    "\n",
    "\n",
    "\n",
    "\n",
    "\n",
    "\n",
    "\n",
    "\n",
    "\n",
    "\n",
    "\n",
    "\n",
    "\n",
    "\n",
    "\n",
    "\n",
    "\n",
    "\n",
    "\n",
    "\n",
    "\n",
    "\n",
    "\n",
    "\n",
    "\n",
    "\n",
    "\n",
    "\n",
    "\n",
    "\n",
    "</pre>"
   ]
  },
  {
   "cell_type": "markdown",
   "metadata": {
    "id": "e0IEtgl8eRkv"
   },
   "source": [
    "##### Use the `info` method to check the data types, size of the data frame, and numbers of missing values."
   ]
  },
  {
   "cell_type": "code",
   "execution_count": null,
   "metadata": {
    "colab": {
     "base_uri": "https://localhost:8080/"
    },
    "executionInfo": {
     "elapsed": 14,
     "status": "ok",
     "timestamp": 1760062801372,
     "user": {
      "displayName": "Jack SeattleU",
      "userId": "07242368917600465205"
     },
     "user_tz": 420
    },
    "id": "S-dHnf19eSSf",
    "outputId": "ab0bba01-63ac-4214-997a-aaefb67670c1"
   },
   "outputs": [],
   "source": [
    "edgap.info()"
   ]
  },
  {
   "cell_type": "markdown",
   "metadata": {
    "id": "_7FTkGEu-tJm"
   },
   "source": [
    "<pre>\n",
    "\n",
    "\n",
    "\n",
    "\n",
    "\n",
    "\n",
    "\n",
    "\n",
    "\n",
    "\n",
    "\n",
    "\n",
    "\n",
    "\n",
    "\n",
    "\n",
    "\n",
    "\n",
    "\n",
    "\n",
    "\n",
    "\n",
    "\n",
    "\n",
    "\n",
    "\n",
    "\n",
    "\n",
    "\n",
    "\n",
    "\n",
    "</pre>"
   ]
  },
  {
   "cell_type": "markdown",
   "metadata": {
    "id": "n9ZuQl9HB-mA"
   },
   "source": [
    "##### School information data set"
   ]
  },
  {
   "cell_type": "code",
   "execution_count": null,
   "metadata": {
    "colab": {
     "base_uri": "https://localhost:8080/"
    },
    "executionInfo": {
     "elapsed": 676,
     "status": "ok",
     "timestamp": 1760062802045,
     "user": {
      "displayName": "Jack SeattleU",
      "userId": "07242368917600465205"
     },
     "user_tz": 420
    },
    "id": "KGLg7p04exIM",
    "outputId": "db032813-7f2f-41e7-f5d3-9b5949dafb1e"
   },
   "outputs": [],
   "source": [
    "school_information.info()"
   ]
  },
  {
   "cell_type": "markdown",
   "metadata": {
    "id": "1J26vwdK-wC-"
   },
   "source": [
    "<pre>\n",
    "\n",
    "\n",
    "\n",
    "\n",
    "\n",
    "\n",
    "\n",
    "\n",
    "\n",
    "\n",
    "\n",
    "\n",
    "\n",
    "\n",
    "\n",
    "\n",
    "\n",
    "\n",
    "\n",
    "\n",
    "\n",
    "\n",
    "\n",
    "\n",
    "</pre>"
   ]
  },
  {
   "cell_type": "markdown",
   "metadata": {
    "id": "HtlBtTp6Muhk"
   },
   "source": [
    "## Summary"
   ]
  },
  {
   "cell_type": "markdown",
   "metadata": {
    "id": "oWFY_MWHAOnk"
   },
   "source": [
    "1.  The school information data set is much larger than the EdGap data set. Clearly the EdGap data set does not include all schools.\n",
    "\n",
    "2.  There are missing values in each data set.\n",
    "\n",
    "3.  Each data set is in a tidy, or long format.\n",
    "\n",
    "4.  The data types for the variables of interest look correct, but the school identifier is an `object` in the EdGap data set and a `float64` in the school information data set."
   ]
  },
  {
   "cell_type": "markdown",
   "metadata": {
    "id": "d92nxG7Itk1z"
   },
   "source": [
    "<pre>\n",
    "\n",
    "\n",
    "\n",
    "\n",
    "\n",
    "\n",
    "\n",
    "\n",
    "\n",
    "\n",
    "\n",
    "\n",
    "\n",
    "\n",
    "\n",
    "\n",
    "\n",
    "\n",
    "\n",
    "\n",
    "\n",
    "\n",
    "\n",
    "\n",
    "\n",
    "\n",
    "\n",
    "\n",
    "\n",
    "\n",
    "\n",
    "</pre>"
   ]
  },
  {
   "cell_type": "markdown",
   "metadata": {
    "id": "35pKxSfb2zIs"
   },
   "source": [
    "# Are the data suitable for answering the question?"
   ]
  },
  {
   "cell_type": "markdown",
   "metadata": {
    "id": "lviU3Q7YDUBx"
   },
   "source": [
    "We want to perform quick exploratory data analysis to determine whether the data are sufficient to answer our question. If the data are not sufficient, we do not want to waste time doing anything that will not be productive.\n"
   ]
  },
  {
   "cell_type": "markdown",
   "metadata": {
    "id": "OtGVAg7riIT0"
   },
   "source": [
    "Make a pair plot to explore relationships between the variables."
   ]
  },
  {
   "cell_type": "code",
   "execution_count": null,
   "metadata": {
    "colab": {
     "base_uri": "https://localhost:8080/",
     "height": 1000
    },
    "executionInfo": {
     "elapsed": 11221,
     "status": "ok",
     "timestamp": 1760062813268,
     "user": {
      "displayName": "Jack SeattleU",
      "userId": "07242368917600465205"
     },
     "user_tz": 420
    },
    "id": "i8EpOb4nE1ir",
    "outputId": "0dc75dd0-b875-497a-ee8e-c16e094af8f9"
   },
   "outputs": [],
   "source": [
    "sns.pairplot(\n",
    "    edgap.drop(columns=\"NCESSCH School ID\")\n",
    ");\n",
    "plt.show()"
   ]
  },
  {
   "cell_type": "markdown",
   "metadata": {
    "id": "olKwSxr4BMMj"
   },
   "source": [
    "<pre>\n",
    "\n",
    "\n",
    "\n",
    "\n",
    "\n",
    "\n",
    "\n",
    "\n",
    "\n",
    "\n",
    "\n",
    "\n",
    "\n",
    "\n",
    "\n",
    "\n",
    "\n",
    "\n",
    "\n",
    "\n",
    "\n",
    "\n",
    "\n",
    "\n",
    "</pre>"
   ]
  },
  {
   "cell_type": "markdown",
   "metadata": {
    "id": "R3Hhl26pu4qu"
   },
   "source": [
    "##### Add regression lines and format the pair plot"
   ]
  },
  {
   "cell_type": "code",
   "execution_count": null,
   "metadata": {
    "colab": {
     "base_uri": "https://localhost:8080/",
     "height": 1000
    },
    "executionInfo": {
     "elapsed": 22858,
     "status": "ok",
     "timestamp": 1760062836146,
     "user": {
      "displayName": "Jack SeattleU",
      "userId": "07242368917600465205"
     },
     "user_tz": 420
    },
    "id": "TOKXWSopPiC1",
    "outputId": "90c11bab-d1b1-4c38-d5ec-3ece7cd9eac7"
   },
   "outputs": [],
   "source": [
    "fig = sns.pairplot(\n",
    "    edgap.drop(columns=\"NCESSCH School ID\"),\n",
    "    kind=\"reg\",\n",
    "    plot_kws={\n",
    "        \"line_kws\": {\"color\": \"blue\"},\n",
    "        \"scatter_kws\": {\"alpha\": 0.5, \"color\": \"k\", \"s\": 7},\n",
    "    },\n",
    ")\n",
    "\n",
    "for ax in fig.axes.flat:\n",
    "    if ax.get_xlabel() == 'CT Median Household Income':\n",
    "        ax.ticklabel_format(style='sci', axis='x', scilimits=(0,0))  # Apply scientific notation\n",
    "    ax.set_xlabel(ax.get_xlabel(), fontsize=8, rotation=30, ha='right')  # X-axis label size and rotation\n",
    "    ax.set_ylabel(ax.get_ylabel(), fontsize=8)  # Y-axis label size\n",
    "\n",
    "    # Rotate x-axis tick labels\n",
    "    plt.setp(ax.get_xticklabels(), rotation=30, ha='right')\n",
    "\n",
    "\n",
    "plt.show()"
   ]
  },
  {
   "cell_type": "markdown",
   "metadata": {
    "id": "TKILtLTdu9SA"
   },
   "source": [
    "<pre>\n",
    "\n",
    "\n",
    "\n",
    "\n",
    "\n",
    "\n",
    "\n",
    "\n",
    "\n",
    "\n",
    "\n",
    "\n",
    "\n",
    "\n",
    "\n",
    "\n",
    "\n",
    "\n",
    "\n",
    "\n",
    "\n",
    "\n",
    "\n",
    "\n",
    "</pre>"
   ]
  },
  {
   "cell_type": "markdown",
   "metadata": {
    "id": "SUl5z-gIy3Em"
   },
   "source": [
    "##### Plot a single row"
   ]
  },
  {
   "cell_type": "code",
   "execution_count": null,
   "metadata": {
    "colab": {
     "base_uri": "https://localhost:8080/",
     "height": 402
    },
    "executionInfo": {
     "elapsed": 3423,
     "status": "ok",
     "timestamp": 1760062839574,
     "user": {
      "displayName": "Jack SeattleU",
      "userId": "07242368917600465205"
     },
     "user_tz": 420
    },
    "id": "FH6HuqifNntP",
    "outputId": "52e77dcf-5968-432a-fae4-9013f034368b"
   },
   "outputs": [],
   "source": [
    "fig = sns.pairplot(\n",
    "    edgap.drop(columns=\"NCESSCH School ID\"),\n",
    "    y_vars=['School ACT average (or equivalent if SAT score)'],\n",
    "    kind=\"reg\",\n",
    "    plot_kws={\n",
    "        \"line_kws\": {\"color\": \"blue\"},\n",
    "        \"scatter_kws\": {\"alpha\": 0.5, \"color\": \"k\", \"s\": 7},\n",
    "    },\n",
    ")\n",
    "\n",
    "for ax in fig.axes.flat:\n",
    "    if ax.get_xlabel() == 'CT Median Household Income':\n",
    "        ax.ticklabel_format(style='sci', axis='x', scilimits=(0,0))  # Apply scientific notation\n",
    "    ax.set_xlabel(ax.get_xlabel(), fontsize=8, rotation=30, ha='right')  # X-axis label size and rotation\n",
    "    ax.set_ylabel(ax.get_ylabel(), fontsize=8)  # Y-axis label size\n",
    "\n",
    "    # Rotate x-axis tick labels\n",
    "    plt.setp(ax.get_xticklabels(), rotation=30, ha='right')\n",
    "\n",
    "plt.show()"
   ]
  },
  {
   "cell_type": "markdown",
   "metadata": {
    "id": "MhnzqxMqNBN_"
   },
   "source": [
    "<pre>\n",
    "\n",
    "\n",
    "\n",
    "\n",
    "\n",
    "\n",
    "\n",
    "\n",
    "\n",
    "\n",
    "\n",
    "\n",
    "\n",
    "\n",
    "\n",
    "\n",
    "\n",
    "\n",
    "\n",
    "\n",
    "\n",
    "\n",
    "\n",
    "\n",
    "</pre>"
   ]
  },
  {
   "cell_type": "markdown",
   "metadata": {
    "id": "SYsMsANuzYLW"
   },
   "source": [
    "## Summary"
   ]
  },
  {
   "cell_type": "markdown",
   "metadata": {
    "id": "kSQZIcaEzmpt"
   },
   "source": [
    "1. There appears to be a relationship between the socioeconomic variables and the ACT score.\n",
    "\n",
    "2.  There are some out-of-range ACT and percent lunch values that will need to be dealt with.\n",
    "\n",
    "3.  We should have confidence that it is worthwhile to spend time preparing the data for analysis."
   ]
  },
  {
   "cell_type": "markdown",
   "metadata": {
    "id": "yyPkyhPhzn4G"
   },
   "source": [
    "<pre>\n",
    "\n",
    "\n",
    "\n",
    "\n",
    "\n",
    "\n",
    "\n",
    "\n",
    "\n",
    "\n",
    "\n",
    "\n",
    "\n",
    "\n",
    "\n",
    "\n",
    "\n",
    "\n",
    "\n",
    "\n",
    "\n",
    "\n",
    "\n",
    "\n",
    "\n",
    "\n",
    "\n",
    "\n",
    "\n",
    "</pre>"
   ]
  },
  {
   "cell_type": "markdown",
   "metadata": {
    "id": "20opfkzOB7Nk"
   },
   "source": [
    "# Data Preparation"
   ]
  },
  {
   "cell_type": "markdown",
   "metadata": {
    "id": "HbsdH56_ijIS"
   },
   "source": [
    "## Select relevant subsets of the data"
   ]
  },
  {
   "cell_type": "markdown",
   "metadata": {
    "id": "pkgfwkedip-C"
   },
   "source": [
    "The school information data set contains many columns. We only need the year, school identity, location, and school type information.\n",
    "\n",
    "Keep the columns `SCHOOL_YEAR`, `NCESSCH`, `LSTATE`, `LZIP`, `SCH_TYPE_TEXT`, `LEVEL`, `CHARTER_TEXT`"
   ]
  },
  {
   "cell_type": "code",
   "execution_count": null,
   "metadata": {
    "executionInfo": {
     "elapsed": 2,
     "status": "ok",
     "timestamp": 1760062839578,
     "user": {
      "displayName": "Jack SeattleU",
      "userId": "07242368917600465205"
     },
     "user_tz": 420
    },
    "id": "BbKrJBPL5kxR"
   },
   "outputs": [],
   "source": [
    "school_information = school_information[\n",
    "    ['SCHOOL_YEAR', 'NCESSCH', 'LSTATE', 'LZIP', 'SCH_TYPE_TEXT', 'LEVEL', 'CHARTER_TEXT']\n",
    "]"
   ]
  },
  {
   "cell_type": "code",
   "execution_count": null,
   "metadata": {
    "colab": {
     "base_uri": "https://localhost:8080/",
     "height": 206
    },
    "executionInfo": {
     "elapsed": 10,
     "status": "ok",
     "timestamp": 1760062839590,
     "user": {
      "displayName": "Jack SeattleU",
      "userId": "07242368917600465205"
     },
     "user_tz": 420
    },
    "id": "H4Xrdb4651qO",
    "outputId": "e215be23-f820-41d1-9123-69a9a7d06482"
   },
   "outputs": [],
   "source": [
    "school_information.head()"
   ]
  },
  {
   "cell_type": "markdown",
   "metadata": {
    "id": "hI46ONfL1M0Y"
   },
   "source": [
    "<pre>\n",
    "\n",
    "\n",
    "\n",
    "\n",
    "\n",
    "\n",
    "\n",
    "\n",
    "\n",
    "\n",
    "\n",
    "\n",
    "\n",
    "\n",
    "\n",
    "\n",
    "\n",
    "\n",
    "\n",
    "\n",
    "\n",
    "\n",
    "\n",
    "\n",
    "</pre>"
   ]
  },
  {
   "cell_type": "markdown",
   "metadata": {
    "id": "3wvK6vF-85aX"
   },
   "source": [
    "## Rename columns"
   ]
  },
  {
   "cell_type": "markdown",
   "metadata": {
    "id": "16Jn8JjIDngD"
   },
   "source": [
    "We will rename the columns to follow best practices of style and being informative. We can do this before or after joining the data sets. We will do it before joining the data sets to make it obvious that the key has the same name in each data set (this isn't required, but it makes your work easier to read)."
   ]
  },
  {
   "cell_type": "code",
   "execution_count": 3,
   "metadata": {
    "executionInfo": {
     "elapsed": 2,
     "status": "ok",
     "timestamp": 1760062839593,
     "user": {
      "displayName": "Jack SeattleU",
      "userId": "07242368917600465205"
     },
     "user_tz": 420
    },
    "id": "YzDPtS_vOgQd"
   },
   "outputs": [
    {
     "ename": "NameError",
     "evalue": "name 'edgap' is not defined",
     "output_type": "error",
     "traceback": [
      "\u001b[1;31m---------------------------------------------------------------------------\u001b[0m",
      "\u001b[1;31mNameError\u001b[0m                                 Traceback (most recent call last)",
      "Cell \u001b[1;32mIn[3], line 1\u001b[0m\n\u001b[1;32m----> 1\u001b[0m edgap \u001b[38;5;241m=\u001b[39m edgap\u001b[38;5;241m.\u001b[39mrename(\n\u001b[0;32m      2\u001b[0m     columns\u001b[38;5;241m=\u001b[39m{\n\u001b[0;32m      3\u001b[0m         \u001b[38;5;124m\"\u001b[39m\u001b[38;5;124mNCESSCH School ID\u001b[39m\u001b[38;5;124m\"\u001b[39m: \u001b[38;5;124m\"\u001b[39m\u001b[38;5;124mid\u001b[39m\u001b[38;5;124m\"\u001b[39m,\n\u001b[0;32m      4\u001b[0m         \u001b[38;5;124m\"\u001b[39m\u001b[38;5;124mCT Pct Adults with College Degree\u001b[39m\u001b[38;5;124m\"\u001b[39m: \u001b[38;5;124m\"\u001b[39m\u001b[38;5;124mpercent_college\u001b[39m\u001b[38;5;124m\"\u001b[39m,\n\u001b[0;32m      5\u001b[0m         \u001b[38;5;124m\"\u001b[39m\u001b[38;5;124mCT Unemployment Rate\u001b[39m\u001b[38;5;124m\"\u001b[39m: \u001b[38;5;124m\"\u001b[39m\u001b[38;5;124mrate_unemployment\u001b[39m\u001b[38;5;124m\"\u001b[39m,\n\u001b[0;32m      6\u001b[0m         \u001b[38;5;124m\"\u001b[39m\u001b[38;5;124mCT Pct Childre In Married Couple Family\u001b[39m\u001b[38;5;124m\"\u001b[39m: \u001b[38;5;124m\"\u001b[39m\u001b[38;5;124mpercent_married\u001b[39m\u001b[38;5;124m\"\u001b[39m,\n\u001b[0;32m      7\u001b[0m         \u001b[38;5;124m\"\u001b[39m\u001b[38;5;124mCT Median Household Income\u001b[39m\u001b[38;5;124m\"\u001b[39m: \u001b[38;5;124m\"\u001b[39m\u001b[38;5;124mmedian_income\u001b[39m\u001b[38;5;124m\"\u001b[39m,\n\u001b[0;32m      8\u001b[0m         \u001b[38;5;124m\"\u001b[39m\u001b[38;5;124mSchool ACT average (or equivalent if SAT score)\u001b[39m\u001b[38;5;124m\"\u001b[39m: \u001b[38;5;124m\"\u001b[39m\u001b[38;5;124maverage_act\u001b[39m\u001b[38;5;124m\"\u001b[39m,\n\u001b[0;32m      9\u001b[0m         \u001b[38;5;124m\"\u001b[39m\u001b[38;5;124mSchool Pct Free and Reduced Lunch\u001b[39m\u001b[38;5;124m\"\u001b[39m: \u001b[38;5;124m\"\u001b[39m\u001b[38;5;124mpercent_lunch\u001b[39m\u001b[38;5;124m\"\u001b[39m,\n\u001b[0;32m     10\u001b[0m     }\n\u001b[0;32m     11\u001b[0m )\n",
      "\u001b[1;31mNameError\u001b[0m: name 'edgap' is not defined"
     ]
    }
   ],
   "source": [
    "edgap = edgap.rename(\n",
    "    columns={\n",
    "        \"NCESSCH School ID\": \"id\",\n",
    "        \"CT Pct Adults with College Degree\": \"percent_college\",\n",
    "        \"CT Unemployment Rate\": \"rate_unemployment\",\n",
    "        \"CT Pct Childre In Married Couple Family\": \"percent_married\",\n",
    "        \"CT Median Household Income\": \"median_income\",\n",
    "        \"School ACT average (or equivalent if SAT score)\": \"average_act\",\n",
    "        \"School Pct Free and Reduced Lunch\": \"percent_lunch\",\n",
    "    }\n",
    ")"
   ]
  },
  {
   "cell_type": "markdown",
   "metadata": {
    "id": "1GM9jQrY1fKB"
   },
   "source": [
    "<pre>\n",
    "\n",
    "\n",
    "\n",
    "\n",
    "\n",
    "\n",
    "\n",
    "\n",
    "\n",
    "\n",
    "\n",
    "\n",
    "\n",
    "\n",
    "\n",
    "\n",
    "\n",
    "\n",
    "\n",
    "\n",
    "\n",
    "\n",
    "\n",
    "\n",
    "</pre>"
   ]
  },
  {
   "cell_type": "markdown",
   "metadata": {
    "id": "qVuEIRuWix51"
   },
   "source": [
    "##### Rename the columns `SCHOOL_YEAR`, `NCESSCH`, `LSTATE`, `LZIP`, `SCH_TYPE_TEXT`, `LEVEL`, `CHARTER_TEXT` to `year`, `id`, `state`, `zip_code`, `school_type`, `school_level`, `charter`"
   ]
  },
  {
   "cell_type": "code",
   "execution_count": null,
   "metadata": {
    "executionInfo": {
     "elapsed": 2,
     "status": "ok",
     "timestamp": 1760062839598,
     "user": {
      "displayName": "Jack SeattleU",
      "userId": "07242368917600465205"
     },
     "user_tz": 420
    },
    "id": "vLqqbu2aPUKz"
   },
   "outputs": [],
   "source": [
    "school_information = school_information.rename(\n",
    "    columns={\n",
    "        \"SCHOOL_YEAR\": \"year\",\n",
    "        \"NCESSCH\": \"id\",\n",
    "        \"LSTATE\": \"state\",\n",
    "        \"LZIP\": \"zip_code\",\n",
    "        \"SCH_TYPE_TEXT\": \"school_type\",\n",
    "        \"LEVEL\": \"school_level\",\n",
    "        \"CHARTER_TEXT\": \"charter\"\n",
    "    }\n",
    ")"
   ]
  },
  {
   "cell_type": "code",
   "execution_count": null,
   "metadata": {
    "colab": {
     "base_uri": "https://localhost:8080/",
     "height": 206
    },
    "executionInfo": {
     "elapsed": 34,
     "status": "ok",
     "timestamp": 1760062839634,
     "user": {
      "displayName": "Jack SeattleU",
      "userId": "07242368917600465205"
     },
     "user_tz": 420
    },
    "id": "Lg1BobXY90xI",
    "outputId": "cae33723-2a91-4ae6-ee98-36d070606507"
   },
   "outputs": [],
   "source": [
    "edgap.head()"
   ]
  },
  {
   "cell_type": "code",
   "execution_count": null,
   "metadata": {
    "colab": {
     "base_uri": "https://localhost:8080/",
     "height": 206
    },
    "executionInfo": {
     "elapsed": 12,
     "status": "ok",
     "timestamp": 1760062839649,
     "user": {
      "displayName": "Jack SeattleU",
      "userId": "07242368917600465205"
     },
     "user_tz": 420
    },
    "id": "2-qLpnoC93lc",
    "outputId": "8f265377-a0ca-4a4b-e709-b450b4fe9484"
   },
   "outputs": [],
   "source": [
    "school_information.head()"
   ]
  },
  {
   "cell_type": "markdown",
   "metadata": {
    "id": "cRfaGoxj1p6C"
   },
   "source": [
    "<pre>\n",
    "\n",
    "\n",
    "\n",
    "\n",
    "\n",
    "\n",
    "\n",
    "\n",
    "\n",
    "\n",
    "\n",
    "\n",
    "\n",
    "\n",
    "\n",
    "\n",
    "\n",
    "\n",
    "\n",
    "\n",
    "\n",
    "\n",
    "\n",
    "\n",
    "</pre>"
   ]
  },
  {
   "cell_type": "markdown",
   "metadata": {
    "id": "L-5c3W-0Vk04"
   },
   "source": [
    "## Summary"
   ]
  },
  {
   "cell_type": "markdown",
   "metadata": {
    "id": "tviogzulVk04"
   },
   "source": [
    "1. We selected a subset of columns of the school information data set.\n",
    "\n",
    "2.  We renamed the columns for clarity and to follow formatting guidelines.\n",
    "\n",
    "3.  We are ready to join the data frames."
   ]
  },
  {
   "cell_type": "markdown",
   "metadata": {
    "id": "K7Csbn4GVk04"
   },
   "source": [
    "<pre>\n",
    "\n",
    "\n",
    "\n",
    "\n",
    "\n",
    "\n",
    "\n",
    "\n",
    "\n",
    "\n",
    "\n",
    "\n",
    "\n",
    "\n",
    "\n",
    "\n",
    "\n",
    "\n",
    "\n",
    "\n",
    "\n",
    "\n",
    "\n",
    "\n",
    "\n",
    "\n",
    "\n",
    "\n",
    "\n",
    "</pre>"
   ]
  },
  {
   "cell_type": "markdown",
   "metadata": {
    "id": "BkCnFJdVryvv"
   },
   "source": [
    "# Join data frames"
   ]
  },
  {
   "cell_type": "markdown",
   "metadata": {
    "id": "czg-VgjJfeQr"
   },
   "source": [
    "We want to join the DataFrames using the identity of the school as the key. The identity is given by the NCESSCH school identity. The value is an `object` in the EdGap data set and a `float64` in the school information data set.\n",
    "\n",
    "We will cast the `id` column in the `school_information` DataFrame as an `object`."
   ]
  },
  {
   "cell_type": "code",
   "execution_count": null,
   "metadata": {
    "executionInfo": {
     "elapsed": 14,
     "status": "ok",
     "timestamp": 1760062839666,
     "user": {
      "displayName": "Jack SeattleU",
      "userId": "07242368917600465205"
     },
     "user_tz": 420
    },
    "id": "s2laQSaihHr6"
   },
   "outputs": [],
   "source": [
    "school_information['id'] = school_information['id'].astype('object')"
   ]
  },
  {
   "cell_type": "code",
   "execution_count": null,
   "metadata": {
    "colab": {
     "base_uri": "https://localhost:8080/"
    },
    "executionInfo": {
     "elapsed": 28,
     "status": "ok",
     "timestamp": 1760062839722,
     "user": {
      "displayName": "Jack SeattleU",
      "userId": "07242368917600465205"
     },
     "user_tz": 420
    },
    "id": "sKWyHKJfhaCI",
    "outputId": "c56f7dc5-5fa9-4cec-80da-613ac9f574a0"
   },
   "outputs": [],
   "source": [
    "school_information.info()"
   ]
  },
  {
   "cell_type": "markdown",
   "metadata": {
    "id": "eSttv1Av2ZSc"
   },
   "source": [
    "<pre>\n",
    "\n",
    "\n",
    "\n",
    "\n",
    "\n",
    "\n",
    "\n",
    "\n",
    "\n",
    "\n",
    "\n",
    "\n",
    "\n",
    "\n",
    "\n",
    "\n",
    "\n",
    "\n",
    "\n",
    "\n",
    "\n",
    "\n",
    "\n",
    "\n",
    "</pre>"
   ]
  },
  {
   "cell_type": "markdown",
   "metadata": {
    "id": "XzsD_BV6A5kA"
   },
   "source": [
    "##### Join the data frames and call the result `df`."
   ]
  },
  {
   "cell_type": "code",
   "execution_count": null,
   "metadata": {
    "executionInfo": {
     "elapsed": 44,
     "status": "ok",
     "timestamp": 1760062839802,
     "user": {
      "displayName": "Jack SeattleU",
      "userId": "07242368917600465205"
     },
     "user_tz": 420
    },
    "id": "NFrORAYPrVex"
   },
   "outputs": [],
   "source": [
    "df = edgap.merge(\n",
    "    school_information,\n",
    "    how='left',\n",
    "    on='id'\n",
    ")"
   ]
  },
  {
   "cell_type": "code",
   "execution_count": null,
   "metadata": {
    "colab": {
     "base_uri": "https://localhost:8080/",
     "height": 206
    },
    "executionInfo": {
     "elapsed": 101,
     "status": "ok",
     "timestamp": 1760062839901,
     "user": {
      "displayName": "Jack SeattleU",
      "userId": "07242368917600465205"
     },
     "user_tz": 420
    },
    "id": "9itKYgNOsjYJ",
    "outputId": "764d3e0e-1f41-4c4b-993d-1e6003bd7963"
   },
   "outputs": [],
   "source": [
    "df.head()"
   ]
  },
  {
   "cell_type": "code",
   "execution_count": null,
   "metadata": {
    "colab": {
     "base_uri": "https://localhost:8080/"
    },
    "executionInfo": {
     "elapsed": 20,
     "status": "ok",
     "timestamp": 1760062839902,
     "user": {
      "displayName": "Jack SeattleU",
      "userId": "07242368917600465205"
     },
     "user_tz": 420
    },
    "id": "ZYtGMp6AL20E",
    "outputId": "9b8a9c38-cc6e-442b-f8db-7f36f8cd802c"
   },
   "outputs": [],
   "source": [
    "df.info()"
   ]
  },
  {
   "cell_type": "markdown",
   "metadata": {
    "id": "mgT3Q87u2uMV"
   },
   "source": [
    "<pre>\n",
    "\n",
    "\n",
    "\n",
    "\n",
    "\n",
    "\n",
    "\n",
    "\n",
    "\n",
    "\n",
    "\n",
    "\n",
    "\n",
    "\n",
    "\n",
    "\n",
    "\n",
    "\n",
    "\n",
    "\n",
    "\n",
    "\n",
    "\n",
    "\n",
    "</pre>"
   ]
  },
  {
   "cell_type": "markdown",
   "metadata": {
    "id": "xOfOQj91ZvLw"
   },
   "source": [
    "## Summary"
   ]
  },
  {
   "cell_type": "markdown",
   "metadata": {
    "id": "6DgTYp9rZvLw"
   },
   "source": [
    "1. We joined the data sets using the school `id` as the key.\n",
    "\n",
    "2. We first cast the `id` as an object to have the same data type for the key in each data set.\n",
    "\n",
    "3. We used a left join to keep all EdGap data."
   ]
  },
  {
   "cell_type": "markdown",
   "metadata": {
    "id": "nUAgkmBNZvLw"
   },
   "source": [
    "<pre>\n",
    "\n",
    "\n",
    "\n",
    "\n",
    "\n",
    "\n",
    "\n",
    "\n",
    "\n",
    "\n",
    "\n",
    "\n",
    "\n",
    "\n",
    "\n",
    "\n",
    "\n",
    "\n",
    "\n",
    "\n",
    "\n",
    "\n",
    "\n",
    "\n",
    "\n",
    "\n",
    "\n",
    "\n",
    "\n",
    "</pre>"
   ]
  },
  {
   "cell_type": "markdown",
   "metadata": {
    "id": "OgPjzVV5jbI9"
   },
   "source": [
    "# Quality Control"
   ]
  },
  {
   "cell_type": "markdown",
   "metadata": {
    "id": "kzQyctBL6aj8"
   },
   "source": [
    "##### There are natural bounds for the numerical variables in the data set. Check the minimum and maximum values in each column.\n",
    "\n",
    "We can use the `describe()` method to compute descriptive statistics"
   ]
  },
  {
   "cell_type": "code",
   "execution_count": null,
   "metadata": {
    "colab": {
     "base_uri": "https://localhost:8080/",
     "height": 300
    },
    "executionInfo": {
     "elapsed": 28,
     "status": "ok",
     "timestamp": 1760062839926,
     "user": {
      "displayName": "Jack SeattleU",
      "userId": "07242368917600465205"
     },
     "user_tz": 420
    },
    "id": "9CL-YlD6IRJY",
    "outputId": "69d36f20-171a-416e-cf2b-eb28c2ae734a"
   },
   "outputs": [],
   "source": [
    "df.describe()"
   ]
  },
  {
   "cell_type": "markdown",
   "metadata": {
    "id": "Qv5ThAzL3yjm"
   },
   "source": [
    "<pre>\n",
    "\n",
    "\n",
    "\n",
    "\n",
    "\n",
    "\n",
    "\n",
    "\n",
    "\n",
    "\n",
    "\n",
    "\n",
    "\n",
    "\n",
    "\n",
    "\n",
    "\n",
    "\n",
    "\n",
    "\n",
    "\n",
    "\n",
    "\n",
    "\n",
    "</pre>"
   ]
  },
  {
   "cell_type": "markdown",
   "metadata": {
    "id": "fRP8xKj6idoB"
   },
   "source": [
    "##### or use the `min` and `max`"
   ]
  },
  {
   "cell_type": "code",
   "execution_count": null,
   "metadata": {
    "colab": {
     "base_uri": "https://localhost:8080/",
     "height": 112
    },
    "executionInfo": {
     "elapsed": 16,
     "status": "ok",
     "timestamp": 1760062839943,
     "user": {
      "displayName": "Jack SeattleU",
      "userId": "07242368917600465205"
     },
     "user_tz": 420
    },
    "id": "ZemXt5Hh6Xqh",
    "outputId": "bf445a5a-e10d-413e-c3d0-069a4dc6085b"
   },
   "outputs": [],
   "source": [
    "df.select_dtypes(include=['number']).agg(['min', 'max']).round(2)"
   ]
  },
  {
   "cell_type": "markdown",
   "metadata": {
    "id": "JrHqhFj-9ZpQ"
   },
   "source": [
    "<pre>\n",
    "\n",
    "\n",
    "\n",
    "\n",
    "\n",
    "\n",
    "\n",
    "\n",
    "\n",
    "\n",
    "\n",
    "\n",
    "\n",
    "\n",
    "\n",
    "\n",
    "\n",
    "\n",
    "\n",
    "\n",
    "\n",
    "\n",
    "\n",
    "\n",
    "\n",
    "\n",
    "\n",
    "\n",
    "\n",
    "\n",
    "\n",
    "\n",
    "</pre>"
   ]
  },
  {
   "cell_type": "markdown",
   "metadata": {
    "id": "c5p-cQLo6kll"
   },
   "source": [
    "##### Set out-of-range values to `NaN` using `np.nan`."
   ]
  },
  {
   "cell_type": "code",
   "execution_count": null,
   "metadata": {
    "executionInfo": {
     "elapsed": 50,
     "status": "ok",
     "timestamp": 1760062839995,
     "user": {
      "displayName": "Jack SeattleU",
      "userId": "07242368917600465205"
     },
     "user_tz": 420
    },
    "id": "T8l3HdrxLRsZ"
   },
   "outputs": [],
   "source": [
    "df.loc[df['percent_lunch'] < 0, 'percent_lunch'] = np.nan"
   ]
  },
  {
   "cell_type": "code",
   "execution_count": null,
   "metadata": {
    "executionInfo": {
     "elapsed": 1,
     "status": "ok",
     "timestamp": 1760062839997,
     "user": {
      "displayName": "Jack SeattleU",
      "userId": "07242368917600465205"
     },
     "user_tz": 420
    },
    "id": "6k3MM2FiK4J9"
   },
   "outputs": [],
   "source": [
    "df.loc[df['average_act'] < 1, 'average_act'] = np.nan"
   ]
  },
  {
   "cell_type": "markdown",
   "metadata": {
    "id": "70r4Ve_L9mnr"
   },
   "source": [
    "<pre>\n",
    "\n",
    "\n",
    "\n",
    "\n",
    "\n",
    "\n",
    "\n",
    "\n",
    "\n",
    "\n",
    "\n",
    "\n",
    "\n",
    "\n",
    "\n",
    "\n",
    "\n",
    "\n",
    "\n",
    "\n",
    "\n",
    "\n",
    "\n",
    "\n",
    "\n",
    "\n",
    "\n",
    "\n",
    "\n",
    "</pre>"
   ]
  },
  {
   "cell_type": "markdown",
   "metadata": {
    "id": "28up4qASPocP"
   },
   "source": [
    "##### Check the types, levels, and charter status of schools"
   ]
  },
  {
   "cell_type": "code",
   "execution_count": null,
   "metadata": {
    "colab": {
     "base_uri": "https://localhost:8080/",
     "height": 241
    },
    "executionInfo": {
     "elapsed": 3,
     "status": "ok",
     "timestamp": 1760062840002,
     "user": {
      "displayName": "Jack SeattleU",
      "userId": "07242368917600465205"
     },
     "user_tz": 420
    },
    "id": "_oZ7M1yFP5kD",
    "outputId": "7c54467f-2894-4340-cf10-69e7c3ddd417"
   },
   "outputs": [],
   "source": [
    "df['school_type'].value_counts()"
   ]
  },
  {
   "cell_type": "code",
   "execution_count": null,
   "metadata": {
    "colab": {
     "base_uri": "https://localhost:8080/",
     "height": 241
    },
    "executionInfo": {
     "elapsed": 19,
     "status": "ok",
     "timestamp": 1760062840023,
     "user": {
      "displayName": "Jack SeattleU",
      "userId": "07242368917600465205"
     },
     "user_tz": 420
    },
    "id": "iUe-95TsP-S8",
    "outputId": "4025e892-f914-4821-de63-a2a477c8f13f"
   },
   "outputs": [],
   "source": [
    "df['school_level'].value_counts()"
   ]
  },
  {
   "cell_type": "code",
   "execution_count": null,
   "metadata": {
    "colab": {
     "base_uri": "https://localhost:8080/",
     "height": 209
    },
    "executionInfo": {
     "elapsed": 19,
     "status": "ok",
     "timestamp": 1760062840037,
     "user": {
      "displayName": "Jack SeattleU",
      "userId": "07242368917600465205"
     },
     "user_tz": 420
    },
    "id": "1kxtU21cdlum",
    "outputId": "330fa05b-ef88-4382-a268-77a86ff34a48"
   },
   "outputs": [],
   "source": [
    "df['charter'].value_counts()"
   ]
  },
  {
   "cell_type": "markdown",
   "metadata": {
    "id": "gSZ0a1mJ9uvN"
   },
   "source": [
    "<pre>\n",
    "\n",
    "\n",
    "\n",
    "\n",
    "\n",
    "\n",
    "\n",
    "\n",
    "\n",
    "\n",
    "\n",
    "\n",
    "\n",
    "\n",
    "\n",
    "\n",
    "\n",
    "\n",
    "\n",
    "\n",
    "\n",
    "\n",
    "\n",
    "\n",
    "\n",
    "\n",
    "\n",
    "\n",
    "\n",
    "</pre>"
   ]
  },
  {
   "cell_type": "markdown",
   "metadata": {
    "id": "TdbEIeH4Genv"
   },
   "source": [
    "##### Keep only the high schools."
   ]
  },
  {
   "cell_type": "code",
   "execution_count": null,
   "metadata": {
    "executionInfo": {
     "elapsed": 32,
     "status": "ok",
     "timestamp": 1760062840067,
     "user": {
      "displayName": "Jack SeattleU",
      "userId": "07242368917600465205"
     },
     "user_tz": 420
    },
    "id": "tdda0OUBIWuA"
   },
   "outputs": [],
   "source": [
    "df = df.loc[df['school_level'] == 'High']"
   ]
  },
  {
   "cell_type": "markdown",
   "metadata": {
    "id": "xRI03zTY90EV"
   },
   "source": [
    "<pre>\n",
    "\n",
    "\n",
    "\n",
    "\n",
    "\n",
    "\n",
    "\n",
    "\n",
    "\n",
    "\n",
    "\n",
    "\n",
    "\n",
    "\n",
    "\n",
    "\n",
    "\n",
    "\n",
    "\n",
    "\n",
    "\n",
    "\n",
    "\n",
    "\n",
    "\n",
    "\n",
    "\n",
    "\n",
    "\n",
    "\n",
    "\n",
    "\n",
    "</pre>"
   ]
  },
  {
   "cell_type": "markdown",
   "metadata": {
    "id": "hYwFIB4A7a54"
   },
   "source": [
    "##### Check for any duplicated rows"
   ]
  },
  {
   "cell_type": "code",
   "execution_count": null,
   "metadata": {
    "colab": {
     "base_uri": "https://localhost:8080/"
    },
    "executionInfo": {
     "elapsed": 37,
     "status": "ok",
     "timestamp": 1760062840106,
     "user": {
      "displayName": "Jack SeattleU",
      "userId": "07242368917600465205"
     },
     "user_tz": 420
    },
    "id": "Dv2h4OHi65lc",
    "outputId": "b19e7265-9a5f-4320-aae5-2b7301027d3a"
   },
   "outputs": [],
   "source": [
    "df.duplicated().sum()"
   ]
  },
  {
   "cell_type": "markdown",
   "metadata": {
    "id": "UR0nyQXN99Yq"
   },
   "source": [
    "<pre>\n",
    "\n",
    "\n",
    "\n",
    "\n",
    "\n",
    "\n",
    "\n",
    "\n",
    "\n",
    "\n",
    "\n",
    "\n",
    "\n",
    "\n",
    "\n",
    "\n",
    "\n",
    "\n",
    "\n",
    "\n",
    "\n",
    "\n",
    "\n",
    "\n",
    "\n",
    "\n",
    "\n",
    "\n",
    "</pre>"
   ]
  },
  {
   "cell_type": "markdown",
   "metadata": {
    "id": "CMc6t7HtpLxk"
   },
   "source": [
    "##### It is possible that there are incorrectly recorded values in the data set, but we will not go that far in this example."
   ]
  },
  {
   "cell_type": "markdown",
   "metadata": {
    "id": "Je6vygeb9_oa"
   },
   "source": [
    "<pre>\n",
    "\n",
    "\n",
    "\n",
    "\n",
    "\n",
    "\n",
    "\n",
    "\n",
    "\n",
    "\n",
    "\n",
    "\n",
    "\n",
    "\n",
    "\n",
    "\n",
    "\n",
    "\n",
    "\n",
    "\n",
    "\n",
    "\n",
    "\n",
    "\n",
    "</pre>"
   ]
  },
  {
   "cell_type": "markdown",
   "metadata": {
    "id": "aAaUY6N1rtoa"
   },
   "source": [
    "## Identify missing values"
   ]
  },
  {
   "cell_type": "markdown",
   "metadata": {
    "id": "7yrJZMs8Onpn"
   },
   "source": [
    "How many values of each variable are missing?"
   ]
  },
  {
   "cell_type": "code",
   "execution_count": null,
   "metadata": {
    "colab": {
     "base_uri": "https://localhost:8080/",
     "height": 457
    },
    "executionInfo": {
     "elapsed": 27,
     "status": "ok",
     "timestamp": 1760062840113,
     "user": {
      "displayName": "Jack SeattleU",
      "userId": "07242368917600465205"
     },
     "user_tz": 420
    },
    "id": "SzJ4LmQzOq1a",
    "outputId": "516b9fe7-331d-4139-8b56-9f69376544b4"
   },
   "outputs": [],
   "source": [
    "df.isna().sum().to_frame(name='Number of Missing Values')"
   ]
  },
  {
   "cell_type": "markdown",
   "metadata": {
    "id": "dNyYAb9i-LvW"
   },
   "source": [
    "<pre>\n",
    "\n",
    "\n",
    "\n",
    "\n",
    "\n",
    "\n",
    "\n",
    "\n",
    "\n",
    "\n",
    "\n",
    "\n",
    "\n",
    "\n",
    "\n",
    "\n",
    "\n",
    "\n",
    "\n",
    "\n",
    "\n",
    "\n",
    "\n",
    "\n",
    "</pre>"
   ]
  },
  {
   "cell_type": "markdown",
   "metadata": {
    "id": "2MkZsTFpkd7k"
   },
   "source": [
    "##### What percentage of values of each variable are missing?"
   ]
  },
  {
   "cell_type": "code",
   "execution_count": null,
   "metadata": {
    "colab": {
     "base_uri": "https://localhost:8080/",
     "height": 457
    },
    "executionInfo": {
     "elapsed": 6,
     "status": "ok",
     "timestamp": 1760062840121,
     "user": {
      "displayName": "Jack SeattleU",
      "userId": "07242368917600465205"
     },
     "user_tz": 420
    },
    "id": "CY_Gu7PhT-uV",
    "outputId": "da6c6d2b-73f4-4bd2-efe4-291201e9185f"
   },
   "outputs": [],
   "source": [
    "percent_missing = df.isna().mean().round(4) * 100\n",
    "\n",
    "percent_missing.to_frame(name='Percent Missing Values')"
   ]
  },
  {
   "cell_type": "markdown",
   "metadata": {
    "id": "fMUbdf5r-OrG"
   },
   "source": [
    "<pre>\n",
    "\n",
    "\n",
    "\n",
    "\n",
    "\n",
    "\n",
    "\n",
    "\n",
    "\n",
    "\n",
    "\n",
    "\n",
    "\n",
    "\n",
    "\n",
    "\n",
    "\n",
    "\n",
    "\n",
    "\n",
    "\n",
    "\n",
    "\n",
    "\n",
    "</pre>"
   ]
  },
  {
   "cell_type": "markdown",
   "metadata": {
    "id": "kbG6IuGiQIj5"
   },
   "source": [
    "##### What states do we have data from?"
   ]
  },
  {
   "cell_type": "code",
   "execution_count": null,
   "metadata": {
    "colab": {
     "base_uri": "https://localhost:8080/",
     "height": 742
    },
    "executionInfo": {
     "elapsed": 5,
     "status": "ok",
     "timestamp": 1760062840127,
     "user": {
      "displayName": "Jack SeattleU",
      "userId": "07242368917600465205"
     },
     "user_tz": 420
    },
    "id": "kqbKvwN0bX_N",
    "outputId": "e9d39c0f-c2d3-42a4-b44e-daa77e0ec466"
   },
   "outputs": [],
   "source": [
    "df['state'].value_counts()"
   ]
  },
  {
   "cell_type": "code",
   "execution_count": null,
   "metadata": {
    "colab": {
     "base_uri": "https://localhost:8080/"
    },
    "executionInfo": {
     "elapsed": 13,
     "status": "ok",
     "timestamp": 1760062840141,
     "user": {
      "displayName": "Jack SeattleU",
      "userId": "07242368917600465205"
     },
     "user_tz": 420
    },
    "id": "mMIooFmRcs-v",
    "outputId": "ac263316-60e0-4dfa-edaf-0441d4b7d403"
   },
   "outputs": [],
   "source": [
    "df['state'].nunique()"
   ]
  },
  {
   "cell_type": "markdown",
   "metadata": {
    "id": "Nr_aQPAY-smE"
   },
   "source": [
    "<pre>\n",
    "\n",
    "\n",
    "\n",
    "\n",
    "\n",
    "\n",
    "\n",
    "\n",
    "\n",
    "\n",
    "\n",
    "\n",
    "\n",
    "\n",
    "\n",
    "\n",
    "\n",
    "\n",
    "\n",
    "\n",
    "\n",
    "\n",
    "\n",
    "\n",
    "</pre>"
   ]
  },
  {
   "cell_type": "markdown",
   "metadata": {
    "id": "-ifDNM3g-t1y"
   },
   "source": [
    "##### Plot the results on a map"
   ]
  },
  {
   "cell_type": "code",
   "execution_count": null,
   "metadata": {
    "executionInfo": {
     "elapsed": 5,
     "status": "ok",
     "timestamp": 1760062840148,
     "user": {
      "displayName": "Jack SeattleU",
      "userId": "07242368917600465205"
     },
     "user_tz": 420
    },
    "id": "zKcRVD9r-3Gr"
   },
   "outputs": [],
   "source": [
    "import plotly.offline as po\n",
    "import plotly.graph_objs as pg"
   ]
  },
  {
   "cell_type": "code",
   "execution_count": null,
   "metadata": {
    "colab": {
     "base_uri": "https://localhost:8080/",
     "height": 542
    },
    "executionInfo": {
     "elapsed": 2085,
     "status": "ok",
     "timestamp": 1760062842231,
     "user": {
      "displayName": "Jack SeattleU",
      "userId": "07242368917600465205"
     },
     "user_tz": 420
    },
    "id": "dCVbOg_rTQZw",
    "outputId": "d4851f36-e6cd-479e-87bf-28285f450375"
   },
   "outputs": [],
   "source": [
    "layout = dict(\n",
    "    geo={\"scope\": \"usa\"}, coloraxis_colorbar=dict(title=\"Number of Schools\")\n",
    ")\n",
    "\n",
    "data = dict(\n",
    "    type=\"choropleth\",\n",
    "    locations=df[\"state\"].value_counts().index,\n",
    "    locationmode=\"USA-states\",\n",
    "    z=df[\"state\"].value_counts().values,\n",
    "    coloraxis=\"coloraxis\",\n",
    ")\n",
    "\n",
    "x = pg.Figure(data=[data], layout=layout)\n",
    "\n",
    "po.iplot(x)"
   ]
  },
  {
   "cell_type": "markdown",
   "metadata": {
    "id": "fE2Mvf95-6ce"
   },
   "source": [
    "<pre>\n",
    "\n",
    "\n",
    "\n",
    "\n",
    "\n",
    "\n",
    "\n",
    "\n",
    "\n",
    "\n",
    "\n",
    "\n",
    "\n",
    "\n",
    "\n",
    "\n",
    "\n",
    "\n",
    "\n",
    "\n",
    "\n",
    "\n",
    "\n",
    "\n",
    "</pre>"
   ]
  },
  {
   "cell_type": "markdown",
   "metadata": {
    "id": "zhxcT_2FkutO"
   },
   "source": [
    "##### We are missing a large amount of USA data due to omission. This is not evident by examining `NaN` values in the data set.\n",
    "\n",
    "We could obtain this information from public records, but we will not do that here."
   ]
  },
  {
   "cell_type": "markdown",
   "metadata": {
    "id": "2Cd17w_KcgOm"
   },
   "source": [
    "<pre>\n",
    "\n",
    "\n",
    "\n",
    "\n",
    "\n",
    "\n",
    "\n",
    "\n",
    "\n",
    "\n",
    "\n",
    "\n",
    "\n",
    "\n",
    "\n",
    "\n",
    "\n",
    "\n",
    "\n",
    "\n",
    "\n",
    "\n",
    "\n",
    "\n",
    "</pre>"
   ]
  },
  {
   "cell_type": "markdown",
   "metadata": {
    "id": "FBsfcd_--YvX"
   },
   "source": [
    "\n",
    "\n",
    "##### Drop the rows where the average ACT score is missing\n"
   ]
  },
  {
   "cell_type": "code",
   "execution_count": null,
   "metadata": {
    "executionInfo": {
     "elapsed": 6,
     "status": "ok",
     "timestamp": 1760062842231,
     "user": {
      "displayName": "Jack SeattleU",
      "userId": "07242368917600465205"
     },
     "user_tz": 420
    },
    "id": "atVZHNGxBVPI"
   },
   "outputs": [],
   "source": [
    "df = df.dropna(subset=['average_act'])"
   ]
  },
  {
   "cell_type": "code",
   "execution_count": null,
   "metadata": {
    "colab": {
     "base_uri": "https://localhost:8080/",
     "height": 457
    },
    "executionInfo": {
     "elapsed": 6,
     "status": "ok",
     "timestamp": 1760062842233,
     "user": {
      "displayName": "Jack SeattleU",
      "userId": "07242368917600465205"
     },
     "user_tz": 420
    },
    "id": "Cpj2SHZ2lmvJ",
    "outputId": "3c0addea-7cfc-4422-b57c-b7a7faf11c94"
   },
   "outputs": [],
   "source": [
    "df.isna().sum().to_frame(name='Number of Missing Values')"
   ]
  },
  {
   "cell_type": "markdown",
   "metadata": {
    "id": "U4VpvSrgdTqK"
   },
   "source": [
    "<pre>\n",
    "\n",
    "\n",
    "\n",
    "\n",
    "\n",
    "\n",
    "\n",
    "\n",
    "\n",
    "\n",
    "\n",
    "\n",
    "\n",
    "\n",
    "\n",
    "\n",
    "\n",
    "\n",
    "\n",
    "\n",
    "\n",
    "\n",
    "\n",
    "\n",
    "</pre>"
   ]
  },
  {
   "cell_type": "markdown",
   "metadata": {
    "id": "lhumVw7hcdcz"
   },
   "source": [
    "##### If we drop rows that have `NaNs` for any socioeconomic variables, then we will negatively affect our analysis using the variables where data were present. So, we will not drop the rows in this data set that are missing the socioeconomic variables. We will impute the missing values."
   ]
  },
  {
   "cell_type": "markdown",
   "metadata": {
    "id": "NbAJ2bpxesFE"
   },
   "source": [
    "<pre>\n",
    "\n",
    "\n",
    "\n",
    "\n",
    "\n",
    "\n",
    "\n",
    "\n",
    "\n",
    "\n",
    "\n",
    "\n",
    "\n",
    "\n",
    "\n",
    "\n",
    "\n",
    "\n",
    "\n",
    "\n",
    "\n",
    "\n",
    "\n",
    "\n",
    "</pre>"
   ]
  },
  {
   "cell_type": "markdown",
   "metadata": {
    "id": "B3Y12Ir_dnqW"
   },
   "source": [
    "## Summary"
   ]
  },
  {
   "cell_type": "markdown",
   "metadata": {
    "id": "eMuhcqwzdnqW"
   },
   "source": [
    "1. We set out-of-range values to `NaN` and will impute them.\n",
    "\n",
    "2. We kept only high schools.\n",
    "\n",
    "3.  We removed schools where we do not have the ACT score.\n",
    "\n",
    "4.  Many schools are missing from the data by omission.\n",
    "\n",
    "5.  We will impute missing values of socioeconomic variables."
   ]
  },
  {
   "cell_type": "markdown",
   "metadata": {
    "id": "G2QeK5aLdnqW"
   },
   "source": [
    "<pre>\n",
    "\n",
    "\n",
    "\n",
    "\n",
    "\n",
    "\n",
    "\n",
    "\n",
    "\n",
    "\n",
    "\n",
    "\n",
    "\n",
    "\n",
    "\n",
    "\n",
    "\n",
    "\n",
    "\n",
    "\n",
    "\n",
    "\n",
    "\n",
    "\n",
    "\n",
    "\n",
    "\n",
    "\n",
    "\n",
    "</pre>"
   ]
  },
  {
   "cell_type": "markdown",
   "metadata": {
    "id": "AM98iKFqk8wM"
   },
   "source": [
    "# Data imputation"
   ]
  },
  {
   "cell_type": "markdown",
   "metadata": {
    "id": "mCAJeAxVmpNZ"
   },
   "source": [
    "##### Define the predictor variables to be `rate_unemployment`, `percent_college`, `percent_married`, `median_income`, `percent_lunch`, `state`, and `charter`."
   ]
  },
  {
   "cell_type": "code",
   "execution_count": null,
   "metadata": {
    "executionInfo": {
     "elapsed": 2,
     "status": "ok",
     "timestamp": 1760062842235,
     "user": {
      "displayName": "Jack SeattleU",
      "userId": "07242368917600465205"
     },
     "user_tz": 420
    },
    "id": "CGEMvOdpdx3n"
   },
   "outputs": [],
   "source": [
    "predictor_variables = [\n",
    "    'rate_unemployment',\n",
    "    'percent_college',\n",
    "    'percent_married',\n",
    "    'median_income',\n",
    "    'percent_lunch',\n",
    "    'state',\n",
    "    'charter'\n",
    "]"
   ]
  },
  {
   "cell_type": "markdown",
   "metadata": {
    "id": "qkRxfPX8UFiK"
   },
   "source": [
    "<pre>\n",
    "\n",
    "\n",
    "\n",
    "\n",
    "\n",
    "\n",
    "\n",
    "\n",
    "\n",
    "\n",
    "\n",
    "\n",
    "\n",
    "\n",
    "\n",
    "\n",
    "\n",
    "\n",
    "\n",
    "\n",
    "\n",
    "\n",
    "\n",
    "\n",
    "</pre>"
   ]
  },
  {
   "cell_type": "markdown",
   "metadata": {
    "id": "cov0jpiQGxvw"
   },
   "source": [
    "##### Use the iterative imputer to replace missing values in the columns corresponding to predictor variables in the analysis.\n",
    "\n"
   ]
  },
  {
   "cell_type": "code",
   "execution_count": null,
   "metadata": {
    "executionInfo": {
     "elapsed": 358,
     "status": "ok",
     "timestamp": 1760062842595,
     "user": {
      "displayName": "Jack SeattleU",
      "userId": "07242368917600465205"
     },
     "user_tz": 420
    },
    "id": "ERD-CDOMUo17"
   },
   "outputs": [],
   "source": [
    "from sklearn.experimental import enable_iterative_imputer\n",
    "from sklearn.impute import IterativeImputer"
   ]
  },
  {
   "cell_type": "code",
   "execution_count": null,
   "metadata": {
    "executionInfo": {
     "elapsed": 6,
     "status": "ok",
     "timestamp": 1760062842603,
     "user": {
      "displayName": "Jack SeattleU",
      "userId": "07242368917600465205"
     },
     "user_tz": 420
    },
    "id": "flj_jFCfET6S"
   },
   "outputs": [],
   "source": [
    "imputer = IterativeImputer()"
   ]
  },
  {
   "cell_type": "markdown",
   "metadata": {
    "id": "H4g3DDWiUSEM"
   },
   "source": [
    "<pre>\n",
    "\n",
    "\n",
    "\n",
    "\n",
    "\n",
    "\n",
    "\n",
    "\n",
    "\n",
    "\n",
    "\n",
    "\n",
    "\n",
    "\n",
    "\n",
    "\n",
    "\n",
    "\n",
    "\n",
    "\n",
    "\n",
    "\n",
    "\n",
    "\n",
    "</pre>"
   ]
  },
  {
   "cell_type": "markdown",
   "metadata": {
    "id": "aQ6wDG8BG31e"
   },
   "source": [
    "##### Fit the imputer using the numerical predictor variables (this can include dummies for categorical variables)."
   ]
  },
  {
   "cell_type": "markdown",
   "metadata": {
    "id": "W-PMr4bkYWYR"
   },
   "source": [
    "Define the columns you want to use in the imputation process"
   ]
  },
  {
   "cell_type": "code",
   "execution_count": null,
   "metadata": {
    "colab": {
     "base_uri": "https://localhost:8080/"
    },
    "executionInfo": {
     "elapsed": 11,
     "status": "ok",
     "timestamp": 1760062842619,
     "user": {
      "displayName": "Jack SeattleU",
      "userId": "07242368917600465205"
     },
     "user_tz": 420
    },
    "id": "aIpGmWgorMWN",
    "outputId": "fa4e6b8b-d284-4f6a-e970-25c1b6e160e1"
   },
   "outputs": [],
   "source": [
    "numerical_predictors = df[predictor_variables].select_dtypes(include='number').columns.to_list()\n",
    "\n",
    "print(numerical_predictors)"
   ]
  },
  {
   "cell_type": "markdown",
   "metadata": {
    "id": "mP4AlO6SfJRO"
   },
   "source": [
    "<pre>\n",
    "\n",
    "\n",
    "\n",
    "\n",
    "\n",
    "\n",
    "\n",
    "\n",
    "\n",
    "\n",
    "\n",
    "\n",
    "\n",
    "\n",
    "\n",
    "\n",
    "\n",
    "\n",
    "\n",
    "\n",
    "\n",
    "\n",
    "\n",
    "\n",
    "</pre>"
   ]
  },
  {
   "cell_type": "markdown",
   "metadata": {
    "id": "XkcmovoxYaoo"
   },
   "source": [
    "##### Fit the imputer"
   ]
  },
  {
   "cell_type": "code",
   "execution_count": null,
   "metadata": {
    "colab": {
     "base_uri": "https://localhost:8080/",
     "height": 80
    },
    "executionInfo": {
     "elapsed": 178,
     "status": "ok",
     "timestamp": 1760062842799,
     "user": {
      "displayName": "Jack SeattleU",
      "userId": "07242368917600465205"
     },
     "user_tz": 420
    },
    "id": "ZGKM5O5VGf0t",
    "outputId": "8f2a2dab-8cd4-44f9-dd54-f99455fc1279"
   },
   "outputs": [],
   "source": [
    "imputer.fit(df.loc[:, numerical_predictors])"
   ]
  },
  {
   "cell_type": "markdown",
   "metadata": {
    "id": "wP_lHcgvfKDc"
   },
   "source": [
    "<pre>\n",
    "\n",
    "\n",
    "\n",
    "\n",
    "\n",
    "\n",
    "\n",
    "\n",
    "\n",
    "\n",
    "\n",
    "\n",
    "\n",
    "\n",
    "\n",
    "\n",
    "\n",
    "\n",
    "\n",
    "\n",
    "\n",
    "\n",
    "\n",
    "\n",
    "</pre>"
   ]
  },
  {
   "cell_type": "markdown",
   "metadata": {
    "id": "LxnxxJ7JHAOU"
   },
   "source": [
    "##### Impute the missing values in the training data."
   ]
  },
  {
   "cell_type": "code",
   "execution_count": null,
   "metadata": {
    "executionInfo": {
     "elapsed": 14,
     "status": "ok",
     "timestamp": 1760062842814,
     "user": {
      "displayName": "Jack SeattleU",
      "userId": "07242368917600465205"
     },
     "user_tz": 420
    },
    "id": "hKXS2keEQ-zr"
   },
   "outputs": [],
   "source": [
    "df.loc[:, numerical_predictors] = imputer.transform(df.loc[:, numerical_predictors])"
   ]
  },
  {
   "cell_type": "markdown",
   "metadata": {
    "id": "lSFhQWOBfKvO"
   },
   "source": [
    "<pre>\n",
    "\n",
    "\n",
    "\n",
    "\n",
    "\n",
    "\n",
    "\n",
    "\n",
    "\n",
    "\n",
    "\n",
    "\n",
    "\n",
    "\n",
    "\n",
    "\n",
    "\n",
    "\n",
    "\n",
    "\n",
    "\n",
    "\n",
    "\n",
    "\n",
    "</pre>"
   ]
  },
  {
   "cell_type": "markdown",
   "metadata": {
    "id": "EUF-obP3HIna"
   },
   "source": [
    "##### Check for missing values"
   ]
  },
  {
   "cell_type": "code",
   "execution_count": null,
   "metadata": {
    "colab": {
     "base_uri": "https://localhost:8080/",
     "height": 457
    },
    "executionInfo": {
     "elapsed": 7,
     "status": "ok",
     "timestamp": 1760062842819,
     "user": {
      "displayName": "Jack SeattleU",
      "userId": "07242368917600465205"
     },
     "user_tz": 420
    },
    "id": "u4KDCTF1FB3m",
    "outputId": "53f4d39f-db52-4d8a-b8f1-4e1ae9964496"
   },
   "outputs": [],
   "source": [
    "df.isna().sum().to_frame(name='Number of Missing Values')"
   ]
  },
  {
   "cell_type": "markdown",
   "metadata": {
    "id": "69nDxnxpVZSC"
   },
   "source": [
    "<pre>\n",
    "\n",
    "\n",
    "\n",
    "\n",
    "\n",
    "\n",
    "\n",
    "\n",
    "\n",
    "\n",
    "\n",
    "\n",
    "\n",
    "\n",
    "\n",
    "\n",
    "\n",
    "\n",
    "\n",
    "\n",
    "\n",
    "\n",
    "\n",
    "\n",
    "</pre>"
   ]
  },
  {
   "cell_type": "markdown",
   "metadata": {
    "id": "fek54sTmW9Hs"
   },
   "source": [
    "###### Export the clean data set"
   ]
  },
  {
   "cell_type": "code",
   "execution_count": null,
   "metadata": {
    "executionInfo": {
     "elapsed": 93,
     "status": "ok",
     "timestamp": 1760062842913,
     "user": {
      "displayName": "Jack SeattleU",
      "userId": "07242368917600465205"
     },
     "user_tz": 420
    },
    "id": "0nSJPpQcATGm"
   },
   "outputs": [],
   "source": [
    "df.to_csv(\n",
    "    'education_clean.csv',\n",
    "    encoding='utf-8-sig',\n",
    "    index=False\n",
    ")"
   ]
  },
  {
   "cell_type": "code",
   "execution_count": null,
   "metadata": {
    "colab": {
     "base_uri": "https://localhost:8080/",
     "height": 17
    },
    "executionInfo": {
     "elapsed": 50,
     "status": "ok",
     "timestamp": 1760062842965,
     "user": {
      "displayName": "Jack SeattleU",
      "userId": "07242368917600465205"
     },
     "user_tz": 420
    },
    "id": "cHIvmbL7i728",
    "outputId": "99e756e0-4fe8-47fd-c3be-4d7d1720a109"
   },
   "outputs": [],
   "source": [
    "from google.colab import files\n",
    "\n",
    "files.download('education_clean.csv')"
   ]
  },
  {
   "cell_type": "markdown",
   "metadata": {
    "id": "46DoplKyVfmA"
   },
   "source": [
    "## Summary"
   ]
  },
  {
   "cell_type": "markdown",
   "metadata": {
    "id": "Z5Ri8bxdVfmB"
   },
   "source": [
    "1. We used an interative imputer to estimate missing values of numerical predictor variables\n",
    "\n",
    "2. We saved the clean data frame as a csv file."
   ]
  }
 ],
 "metadata": {
  "colab": {
   "provenance": [
    {
     "file_id": "1yiJr2Fn0qIteRos0KS74QemYLGVGW9Rr",
     "timestamp": 1760062613494
    },
    {
     "file_id": "1q8OXmhmbt-ngHflGblkSesPKqHwBNMqc",
     "timestamp": 1738099546030
    }
   ]
  },
  "kernelspec": {
   "display_name": "base",
   "language": "python",
   "name": "python3"
  },
  "language_info": {
   "codemirror_mode": {
    "name": "ipython",
    "version": 3
   },
   "file_extension": ".py",
   "mimetype": "text/x-python",
   "name": "python",
   "nbconvert_exporter": "python",
   "pygments_lexer": "ipython3",
   "version": "3.13.5"
  }
 },
 "nbformat": 4,
 "nbformat_minor": 0
}
